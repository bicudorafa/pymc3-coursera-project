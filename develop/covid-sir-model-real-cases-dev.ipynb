{
 "cells": [
  {
   "cell_type": "code",
   "execution_count": null,
   "metadata": {},
   "outputs": [],
   "source": [
    "import pandas as pd\n",
    "import numpy as np\n",
    "import matplotlib.pyplot as plt\n",
    "import plotly\n",
    "import plotly.figure_factory as ff\n",
    "import scipy.stats\n",
    "from scipy.integrate import odeint\n",
    "import pymc3 as pm\n",
    "import arviz as az\n",
    "import sunode\n",
    "import sunode.wrappers.as_theano\n",
    "# sunode object to customise solver configs\n",
    "lib = sunode._cvodes.lib\n",
    "import warnings\n",
    "warnings.filterwarnings('ignore')"
   ]
  },
  {
   "cell_type": "code",
   "execution_count": null,
   "metadata": {},
   "outputs": [],
   "source": [
    "Possible replacement if I prefer to use data from Brazilian cities on the hierarchical modelm"
   ]
  },
  {
   "cell_type": "code",
   "execution_count": null,
   "metadata": {},
   "outputs": [],
   "source": [
    "#pd.read_csv(\"https://raw.githubusercontent.com/wcota/covid19br/master/cases-brazil-states.csv\", date_parser=True).dtypes"
   ]
  },
  {
   "cell_type": "code",
   "execution_count": null,
   "metadata": {},
   "outputs": [],
   "source": [
    "class COVID_data():\n",
    "     \n",
    "    def __init__(self, country='Brazil', Population = 212.6e6):\n",
    " \n",
    "        confirmed_cases_url = 'https://raw.githubusercontent.com/CSSEGISandData/COVID-19/master/csse_covid_19_data/csse_covid_19_time_series/time_series_covid19_confirmed_global.csv'\n",
    "        self.confirmed_cases = pd.read_csv(confirmed_cases_url, sep=',')\n",
    "        deaths_url =  'https://raw.githubusercontent.com/CSSEGISandData/COVID-19/master/csse_covid_19_data/csse_covid_19_time_series/time_series_covid19_deaths_global.csv'\n",
    "        self.deaths = pd.read_csv(deaths_url, sep=',')\n",
    "        self.country = country\n",
    "        self.N = Population   # Population of the country - you need to define the s0 at t0 on ode IVP problemns\n",
    " \n",
    "    def get_dates(self, data_begin='7/11/20', data_end='7/20/20'):\n",
    " \n",
    "        # ------------------------- Date for inference ----------------------#\n",
    "        self.data_begin = data_begin \n",
    "        self.data_end = data_end\n",
    "        confirmed_cases = self.confirmed_cases\n",
    "        country = self.country\n",
    "        self.cases_obs = np.array(confirmed_cases.loc[confirmed_cases[\"Country/Region\"] == country, data_begin:data_end])[0]\n",
    " \n",
    "        print(f\"------------ COVID Data for {country}, from {data_begin} to {data_end}, Loaded ----------- \")"
   ]
  },
  {
   "cell_type": "code",
   "execution_count": null,
   "metadata": {},
   "outputs": [],
   "source": [
    "class SIR_model_sunode():\n",
    " \n",
    "    def __init__(self, covid_data) :\n",
    "        # ------------------------- Covid_data object -----------------------#\n",
    "        self.covid_data = covid_data\n",
    "        # ------------------------- Setup SIR model, but has to be called explicitly to run ------------------------#\n",
    "        self._setup_SIR_model_data()\n",
    " \n",
    "\n",
    "    def _setup_SIR_model_data(self):\n",
    "        \n",
    "        self.time_range = np.arange(0,len(self.covid_data.cases_obs),1)\n",
    "        self.I0 = self.covid_data.cases_obs[0]\n",
    "        self.S0 = self.covid_data.N - self.I0\n",
    "        self.S_init = self.S0 / self.covid_data.N\n",
    "        self.I_init = self.I0 / self.covid_data.N\n",
    "        self.cases_obs_scaled = self.covid_data.cases_obs / self.covid_data.N\n",
    " \n",
    "\n",
    "    def SIR_sunode_rhs_ode(self, t, y, p):\n",
    "        \n",
    "        rhs_ode_dict = {\n",
    "            'S': -p.lam * y.S * y.I,\n",
    "            'I': p.lam * y.S * y.I - p.mu * y.I,\n",
    "            #'R': p.f * p.mu * y.I ## f in considered as 1 for this exercice\n",
    "        }\n",
    "        \n",
    "        return rhs_ode_dict\n",
    "    \n",
    "    \n",
    "    def build_pymc_model(self, likelihood, prior):\n",
    "        # ------------------------- Metadata --------------------------------#\n",
    "        self.likelihood = likelihood\n",
    "        self.prior = prior\n",
    " \n",
    "        with pm.Model() as model:\n",
    "            ## pymc RVs - Priors\n",
    "            sigma = pm.HalfCauchy('sigma', self.likelihood['sigma'], shape=1)\n",
    "            lam = pm.Lognormal('lambda', self.prior['lam'], self.prior['lambda_std']) # 1.5, 1.5\n",
    "            mu = pm.Lognormal('mu', self.prior['mu'], self.prior['mu_std'])           # 1.5, 1.5\n",
    "            ## sunode ODE equation and gradients computed using sunode\n",
    "            res, _, problem, solver, _, _ = sunode.wrappers.as_theano.solve_ivp(\n",
    "                y0={'S': (self.S_init, ()), 'I': (self.I_init, ()),},\n",
    "                params={'lam': (lam, ()), 'mu': (mu, ()), '_dummy': (np.array(1.), ())},\n",
    "                rhs=self.SIR_sunode_rhs_ode,\n",
    "                tvals=self.time_range,\n",
    "                t0=self.time_range[0]\n",
    "            )\n",
    "            ## raw sundials functions to customise sunode solver options\n",
    "            ## powered by pysundials https://github.com/jmuhlich/pysundials/tree/master/doc\n",
    "            lib.CVodeSStolerances(solver._ode, 1e-10, 1e-10)\n",
    "            lib.CVodeSStolerancesB(solver._ode, solver._odeB, 1e-8, 1e-8)\n",
    "            lib.CVodeQuadSStolerancesB(solver._ode, solver._odeB, 1e-8, 1e-8)\n",
    "            lib.CVodeSetMaxNumSteps(solver._ode, 5000)\n",
    "            lib.CVodeSetMaxNumStepsB(solver._ode, solver._odeB, 5000)\n",
    "            ## pymc RVs - likelihood\n",
    "            if(likelihood['distribution'] == 'lognormal'):\n",
    "                I = pm.Lognormal('I', mu=res['I'], sigma=sigma, observed=self.cases_obs_scaled)\n",
    "            elif(likelihood['distribution'] == 'normal'):\n",
    "                I = pm.Normal('I', mu=res['I'], sigma=sigma, observed=self.cases_obs_scaled)\n",
    "            elif(likelihood['distribution'] == 'students-t'):\n",
    "                I = pm.StudentT( \"I\",  nu=likelihood['nu'],       # likelihood distribution of the data\n",
    "                        mu=res['I'],     # likelihood distribution mean, these are the predictions from SIR\n",
    "                        sigma=sigma,\n",
    "                        observed=self.cases_obs_scaled\n",
    "                        )\n",
    "            R0 = pm.Deterministic('R0',lam/mu)\n",
    "        \n",
    "        self.pymc_model = model\n",
    "        \n",
    "        \n",
    "    def plot_pymc_model_dag(self):\n",
    "        \n",
    "        dag_fig = pm.model_to_graphviz(self.pymc_model)\n",
    "        return dag_fig\n",
    "    \n",
    "    def sample_posterior_pymc_model(self, n_samples, n_tune, n_chains, n_cores):\n",
    "        \n",
    "        self.n_samples = n_samples\n",
    "        self.n_tune = n_tune\n",
    "        self.n_chains = n_chains\n",
    "        self.n_cores = n_cores\n",
    "        \n",
    "        try:\n",
    "            self.pymc_model is not None\n",
    "        except NotImplementedError as error:\n",
    "            print('pymc3 model instance not found')\n",
    "\n",
    "        with self.pymc_model:\n",
    "            \n",
    "            trace = pm.sample(self.n_samples, tune=self.n_tune, \n",
    "                              chains=self.n_chains, cores=self.n_cores)\n",
    "            \n",
    "        self.pymc_model_trace = trace\n",
    "        \n",
    "    \n",
    "    def pymc_model_posterior_summary(self):\n",
    "        \n",
    "        trace_summary = az.summary(self.pymc_model_trace)\n",
    "        return trace_summary\n",
    "    \n",
    "    \n",
    "    def pymc_model_plot_posterior(self):\n",
    "        \n",
    "        data = az.from_pymc3(trace=self.pymc_model_trace)\n",
    "        az.plot_posterior(data, round_to=2, point_estimate='mode', hdi_prob=0.95)\n",
    "\n",
    "    def pymc_model_plot_traces(self):\n",
    "        \n",
    "        axes = az.plot_trace(self.pymc_model_trace)\n",
    "        axes.ravel()[0].figure\n",
    "    \n",
    "    \n",
    "    def pymc_model_plot_interactive_trace(self, trace='R0'):\n",
    "        \n",
    "        fig = ff.create_distplot([self.pymc_model_trace[trace]], bin_size=0.5, group_labels=['x'])\n",
    "        # Add title\n",
    "        fig.update_layout(title_text='Curve and Rug Plot')\n",
    "        fig.update_xaxes(range=[0,7])\n",
    "        return fig"
   ]
  },
  {
   "cell_type": "code",
   "execution_count": null,
   "metadata": {},
   "outputs": [],
   "source": [
    "# -------- COVID Data --------#\n",
    "covid_obj = COVID_data()\n",
    "covid_obj.get_dates(data_begin='3/1/20', data_end='9/28/20')"
   ]
  },
  {
   "cell_type": "code",
   "execution_count": null,
   "metadata": {},
   "outputs": [],
   "source": [
    "# -------- SIR Params --------#\n",
    "likelihood = {'distribution': 'lognormal', \n",
    "              'sigma': 2}\n",
    "prior = {'lam': 1.0, \n",
    "         'mu': 0.5, \n",
    "         'lambda_std': 1.0,\n",
    "         'mu_std': 0.2 }\n",
    "# -------- SIR Obj Loading --------#\n",
    "sir_model = SIR_model_sunode(covid_obj)\n",
    "sir_model.build_pymc_model(likelihood=likelihood, prior=prior)\n",
    "#sir_model.plot_pymc_model_dag() ## understand why the image didn't keep python-graphviz installed"
   ]
  },
  {
   "cell_type": "code",
   "execution_count": null,
   "metadata": {},
   "outputs": [],
   "source": [
    "sir_model.sample_posterior_pymc_model(n_samples=2000, n_tune=1000, n_chains=4, n_cores=4)"
   ]
  },
  {
   "cell_type": "code",
   "execution_count": null,
   "metadata": {},
   "outputs": [],
   "source": [
    "sir_model.pymc_model_posterior_summary()"
   ]
  },
  {
   "cell_type": "code",
   "execution_count": null,
   "metadata": {},
   "outputs": [],
   "source": [
    "sir_model.pymc_model_plot_posterior()"
   ]
  },
  {
   "cell_type": "code",
   "execution_count": null,
   "metadata": {},
   "outputs": [],
   "source": [
    "sir_model.pymc_model_plot_traces()"
   ]
  },
  {
   "cell_type": "code",
   "execution_count": null,
   "metadata": {},
   "outputs": [],
   "source": [
    "sir_model.pymc_model_plot_interactive_trace()"
   ]
  },
  {
   "cell_type": "code",
   "execution_count": null,
   "metadata": {},
   "outputs": [],
   "source": []
  }
 ],
 "metadata": {
  "language_info": {
   "name": "python"
  },
  "orig_nbformat": 4
 },
 "nbformat": 4,
 "nbformat_minor": 2
}
