{
 "cells": [
  {
   "cell_type": "code",
   "execution_count": 1,
   "metadata": {},
   "outputs": [
    {
     "data": {
      "text/plain": [
       "{'node_ip_address': '127.0.0.1',\n",
       " 'raylet_ip_address': '127.0.0.1',\n",
       " 'redis_address': '127.0.0.1:6379',\n",
       " 'object_store_address': '/tmp/ray/session_2021-12-01_23-19-53_908869_10893/sockets/plasma_store',\n",
       " 'raylet_socket_name': '/tmp/ray/session_2021-12-01_23-19-53_908869_10893/sockets/raylet',\n",
       " 'webui_url': None,\n",
       " 'session_dir': '/tmp/ray/session_2021-12-01_23-19-53_908869_10893',\n",
       " 'metrics_export_port': 58548,\n",
       " 'node_id': '766f30d230740e09b1fce515b6b9e6ac1496870d6a781eb02e0d2d28'}"
      ]
     },
     "execution_count": 1,
     "metadata": {},
     "output_type": "execute_result"
    }
   ],
   "source": [
    "import ray\n",
    "import time\n",
    "# Start Ray. If you're connecting to an existing cluster, you would use\n",
    "# ray.init(address=<cluster-address>) instead.\n",
    "ray.init()"
   ]
  },
  {
   "cell_type": "code",
   "execution_count": 5,
   "metadata": {},
   "outputs": [],
   "source": [
    "# A regular Python function.\n",
    "def my_function():\n",
    "    return 1\n",
    "\n",
    "# By adding the `@ray.remote` decorator, a regular Python function\n",
    "# becomes a Ray remote function.\n",
    "@ray.remote\n",
    "def my_function():\n",
    "    return 1\n",
    "\n",
    "# To invoke this remote function, use the `remote` method.\n",
    "# This will immediately return an object ref (a future) and then create\n",
    "# a task that will be executed on a worker process.\n",
    "obj_ref = my_function.remote()\n",
    "\n",
    "# The result can be retrieved with ``ray.get``.\n",
    "assert ray.get(obj_ref) == 1\n",
    "\n",
    "@ray.remote\n",
    "def slow_function():\n",
    "    time.sleep(10)\n",
    "    return 1\n",
    "\n",
    "# Invocations of Ray remote functions happen in parallel.\n",
    "# All computation is performed in the background, driven by Ray's internal event loop.\n",
    "for _ in range(4):\n",
    "    # This doesn't block.\n",
    "    slow_function.remote()"
   ]
  },
  {
   "cell_type": "code",
   "execution_count": 7,
   "metadata": {},
   "outputs": [],
   "source": [
    "@ray.remote(num_cpus=4)\n",
    "def function_with_an_argument(value):\n",
    "    return value + 1\n",
    "\n",
    "\n",
    "obj_ref1 = my_function.remote()\n",
    "assert ray.get(obj_ref1) == 1\n",
    "\n",
    "# You can pass an object ref as an argument to another Ray remote function.\n",
    "obj_ref2 = function_with_an_argument.remote(obj_ref1)\n",
    "assert ray.get(obj_ref2) == 2"
   ]
  },
  {
   "cell_type": "code",
   "execution_count": 8,
   "metadata": {},
   "outputs": [
    {
     "name": "stdout",
     "output_type": "stream",
     "text": [
      "Object reference was cancelled.\n"
     ]
    }
   ],
   "source": [
    "@ray.remote\n",
    "def blocking_operation():\n",
    "    time.sleep(10e6)\n",
    "\n",
    "obj_ref = blocking_operation.remote()\n",
    "ray.cancel(obj_ref)\n",
    "\n",
    "from ray.exceptions import TaskCancelledError\n",
    "\n",
    "try:\n",
    "    ray.get(obj_ref)\n",
    "except TaskCancelledError:\n",
    "    print(\"Object reference was cancelled.\")"
   ]
  },
  {
   "cell_type": "code",
   "execution_count": 9,
   "metadata": {},
   "outputs": [
    {
     "name": "stdout",
     "output_type": "stream",
     "text": [
      "`get` timed out.\n"
     ]
    }
   ],
   "source": [
    "# Get the value of one object ref.\n",
    "obj_ref = ray.put(1)\n",
    "assert ray.get(obj_ref) == 1\n",
    "\n",
    "# Get the values of multiple object refs in parallel.\n",
    "assert ray.get([ray.put(i) for i in range(3)]) == [0, 1, 2]\n",
    "\n",
    "# You can also set a timeout to return early from a ``get`` that's blocking for too long.\n",
    "from ray.exceptions import GetTimeoutError\n",
    "\n",
    "@ray.remote\n",
    "def long_running_function():\n",
    "    time.sleep(8)\n",
    "\n",
    "obj_ref = long_running_function.remote()\n",
    "try:\n",
    "    ray.get(obj_ref, timeout=4)\n",
    "except GetTimeoutError:\n",
    "    print(\"`get` timed out.\")"
   ]
  },
  {
   "cell_type": "code",
   "execution_count": 11,
   "metadata": {},
   "outputs": [],
   "source": [
    "@ray.remote\n",
    "class Counter(object):\n",
    "    def __init__(self):\n",
    "        self.value = 0\n",
    "\n",
    "    def increment(self):\n",
    "        self.value += 1\n",
    "        return self.value\n",
    "\n",
    "# Create an actor from this class.\n",
    "counter = Counter.remote()"
   ]
  },
  {
   "cell_type": "code",
   "execution_count": 12,
   "metadata": {},
   "outputs": [
    {
     "data": {
      "text/plain": [
       "Actor(Counter, 17428c629bcf4a1e3ed0460b01000000)"
      ]
     },
     "execution_count": 12,
     "metadata": {},
     "output_type": "execute_result"
    }
   ],
   "source": [
    "obj_ref = counter.increment.remote()\n",
    "assert ray.get(obj_ref) == 1"
   ]
  },
  {
   "cell_type": "code",
   "execution_count": 13,
   "metadata": {},
   "outputs": [
    {
     "name": "stdout",
     "output_type": "stream",
     "text": [
      "[1, 1, 1, 1, 1, 1, 1, 1, 1, 1]\n",
      "[2, 3, 4, 5, 6]\n"
     ]
    }
   ],
   "source": [
    "# Create ten Counter actors.\n",
    "counters = [Counter.remote() for _ in range(10)]\n",
    "\n",
    "# Increment each Counter once and get the results. These tasks all happen in\n",
    "# parallel.\n",
    "results = ray.get([c.increment.remote() for c in counters])\n",
    "print(results)  # prints [1, 1, 1, 1, 1, 1, 1, 1, 1, 1]\n",
    "\n",
    "# Increment the first Counter five times. These tasks are executed serially\n",
    "# and share state.\n",
    "results = ray.get([counters[0].increment.remote() for _ in range(5)])\n",
    "print(results)  # prints [2, 3, 4, 5, 6]"
   ]
  },
  {
   "cell_type": "code",
   "execution_count": 14,
   "metadata": {},
   "outputs": [],
   "source": [
    "ray.shutdown()"
   ]
  },
  {
   "cell_type": "code",
   "execution_count": null,
   "metadata": {},
   "outputs": [],
   "source": []
  }
 ],
 "metadata": {
  "interpreter": {
   "hash": "6f90b4276c590783c7a07511109bf4719a0a3e6c83f54b45385e5346de3d0c98"
  },
  "kernelspec": {
   "display_name": "Python 3.9.7 64-bit ('pymc3_env': conda)",
   "language": "python",
   "name": "python3"
  },
  "language_info": {
   "codemirror_mode": {
    "name": "ipython",
    "version": 3
   },
   "file_extension": ".py",
   "mimetype": "text/x-python",
   "name": "python",
   "nbconvert_exporter": "python",
   "pygments_lexer": "ipython3",
   "version": "3.9.7"
  },
  "orig_nbformat": 4
 },
 "nbformat": 4,
 "nbformat_minor": 2
}
